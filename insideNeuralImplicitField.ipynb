{
 "cells": [
  {
   "cell_type": "markdown",
   "metadata": {
    "id": "FlvgRnzgRauX"
   },
   "source": [
    "Parameters: \n",
    "- width, height of NN\n",
    "- image resolution. \n",
    "- grayscale. \n",
    "- drop out. (may increase interpretability of mid layers?)\n",
    "- L1 vs L2 loss."
   ]
  },
  {
   "cell_type": "code",
   "execution_count": null,
   "metadata": {
    "id": "qg1RGkfrGHO_"
   },
   "outputs": [],
   "source": [
    "import os\n",
    "from time import time\n",
    "from functools import lru_cache\n",
    "import matplotlib.pylab as plt\n",
    "import numpy as np\n",
    "from scipy.ndimage import zoom\n",
    "from IPython import display\n",
    "from imageio import imread"
   ]
  },
  {
   "cell_type": "code",
   "execution_count": null,
   "metadata": {
    "id": "5dfYyPOmxtB4"
   },
   "outputs": [],
   "source": [
    "import tensorflow as tf \n",
    "from tensorflow.keras.layers import Dense, InputLayer\n",
    "from tensorflow.keras import Model\n",
    "\n",
    "print(\"TF version:\", tf.__version__)\n",
    "print(\"GPU is\", \"available\" if tf.config.list_physical_devices('GPU') else \"NOT AVAILABLE\")"
   ]
  },
  {
   "cell_type": "code",
   "execution_count": null,
   "metadata": {
    "id": "3h6NjX9OFAOV"
   },
   "outputs": [],
   "source": [
    "try:\n",
    "    from google.colab import drive\n",
    "except ModuleNotFoundError:\n",
    "    ROOT = 'images'\n",
    "else:\n",
    "    drive.mount('/content/drive')\n",
    "    ROOT = '/content/drive/My Drive/Colab Notebooks/images'"
   ]
  },
  {
   "cell_type": "code",
   "execution_count": null,
   "metadata": {
    "id": "-NzRfvSWx5Zs"
   },
   "outputs": [],
   "source": [
    "class MyModel(Model):\n",
    "  def __init__(self, width, depth, n_channels = 3):\n",
    "    super(MyModel, self).__init__()\n",
    "    self.width = width\n",
    "    self.depth = depth\n",
    "    self.n_channels = n_channels\n",
    "    self.myLayers = []\n",
    "    for i in range(depth):\n",
    "      layer = Dense(\n",
    "        width, activation='relu', name = f'relu_layer_{i}', \n",
    "        kernel_initializer=tf.initializers.RandomNormal(\n",
    "          stddev = (width** -.5), \n",
    "        ), \n",
    "        bias_initializer  =tf.initializers.RandomNormal(stddev=0.01),\n",
    "      )\n",
    "      self.myLayers.append(layer)\n",
    "    self.last = Dense(n_channels, activation='sigmoid', name = f'sigmoid_layer')\n",
    "\n",
    "  def call(self, x):\n",
    "    for layer in self.myLayers:\n",
    "      x = layer(x)\n",
    "    return self.last(x)\n"
   ]
  },
  {
   "cell_type": "code",
   "execution_count": null,
   "metadata": {
    "id": "vaOyyo8rx7NS"
   },
   "outputs": [],
   "source": [
    "@lru_cache()\n",
    "def getRaster(width, height):\n",
    "  buffer = np.zeros((width*height, 2))\n",
    "  x_lin_space = np.linspace(-1, 1, width)\n",
    "  y_lin_space = np.linspace(-1, 1, height)\n",
    "  for x in range(width):\n",
    "    for y in range(height):\n",
    "      buffer[x * height + y, :] = (x_lin_space[x], y_lin_space[y])\n",
    "  return buffer"
   ]
  },
  {
   "cell_type": "code",
   "execution_count": null,
   "metadata": {
    "id": "MSOnkf9xx8Q9"
   },
   "outputs": [],
   "source": [
    "def view(model, width, height, view_h = 5):\n",
    "    output = model.predict(getRaster(width, height))\n",
    "    plt.imshow(\n",
    "        np.reshape(output, (width, height, model.n_channels)), \n",
    "        vmin=0, vmax=1, \n",
    "    )\n",
    "    plt.axis('off')\n",
    "    plt.gcf().set_size_inches(view_h / height * width, view_h)"
   ]
  },
  {
   "cell_type": "code",
   "execution_count": null,
   "metadata": {
    "id": "o7woFIMfx9ir"
   },
   "outputs": [],
   "source": [
    "def viewInitField():\n",
    "    model = MyModel(4, 4, 3)\n",
    "    model.build((None, 2))\n",
    "    model.summary()\n",
    "    view(model)\n",
    "# viewInitField()"
   ]
  },
  {
   "cell_type": "code",
   "execution_count": null,
   "metadata": {
    "id": "RLuD-XQ5IAXB"
   },
   "outputs": [],
   "source": [
    "os.chdir(ROOT)\n",
    "img_names = os.listdir()"
   ]
  },
  {
   "cell_type": "code",
   "execution_count": null,
   "metadata": {
    "id": "pWIUfuF1Frd2"
   },
   "outputs": [],
   "source": [
    "def loadData(img_name, resolution = 50, to_gray = False):\n",
    "  img = imread(img_name) / 255\n",
    "  width, height = img.shape[:2]\n",
    "  try:\n",
    "    if img.shape[2] == 4:\n",
    "      img = img[:, :, :3]\n",
    "    elif img.shape[2] == 1:\n",
    "      raise IndexError\n",
    "    else:\n",
    "      assert img.shape[2] == 3\n",
    "  except IndexError:\n",
    "    t = np.zeros((width, height, 3))\n",
    "    t[:, :, 0] = img\n",
    "    t[:, :, 1] = img\n",
    "    t[:, :, 2] = img\n",
    "    img = t\n",
    "  zoom_k = resolution / (width * height) ** .5\n",
    "  tt = zoom(img[:, :, 0], zoom_k, order=1)\n",
    "  width, height = tt.shape\n",
    "  t = np.zeros((width, height, 3))\n",
    "  t[:, :, 0] = tt\n",
    "  t[:, :, 1] = zoom(img[:, :, 1], zoom_k, order=1)\n",
    "  t[:, :, 2] = zoom(img[:, :, 2], zoom_k, order=1)\n",
    "  img = t\n",
    "  if to_gray:\n",
    "    img[:, :, 0] = np.mean(img, axis=2)\n",
    "    n_channels = 1\n",
    "  else:\n",
    "    n_channels = 3\n",
    "  x = getRaster(width, height)\n",
    "  y = np.zeros((width * height, n_channels))\n",
    "  for i in range(n_channels):\n",
    "    y[:, i] = np.reshape(img[:, :, i], (width * height, ))\n",
    "  return x, y, width, height, img"
   ]
  },
  {
   "cell_type": "code",
   "execution_count": null,
   "metadata": {
    "id": "0K2Xd3dgK_5C"
   },
   "outputs": [],
   "source": [
    "previewIter = iter(img_names)"
   ]
  },
  {
   "cell_type": "code",
   "execution_count": null,
   "metadata": {
    "id": "rlvAYgTvLM6K"
   },
   "outputs": [],
   "source": [
    "# Run this cell multiple times to preview all data. \n",
    "try:\n",
    "  name = next(previewIter)\n",
    "except StopIteration:\n",
    "  print(\"No more.\")\n",
    "else:\n",
    "  x, y, w, h, img = loadData(name, 200)\n",
    "  print(name)\n",
    "  plt.imshow(img)"
   ]
  },
  {
   "cell_type": "code",
   "execution_count": null,
   "metadata": {},
   "outputs": [],
   "source": [
    "# class MyCallback(tf.keras.callbacks.Callback):\n",
    "#     def __init__(self, width, height):\n",
    "#         super().__init__()\n",
    "#         self.width = width\n",
    "#         self.height = height\n",
    "#     def on_epoch_begin(self, epoch, logs=None):\n",
    "#         print(epoch)\n",
    "#         sleep(1)\n",
    "#         view(model, self.width, self.height, 5)\n",
    "#         display.clear_output(wait=True)\n",
    "#         display.display(plt.gcf())\n",
    "# #         sleep(.01)"
   ]
  },
  {
   "cell_type": "code",
   "execution_count": null,
   "metadata": {
    "id": "AXUsTTFaPzWW"
   },
   "outputs": [],
   "source": [
    "def train(\n",
    "    img_name, is_gray = False, SPF = 1.5, steps_per_epoch = 32, \n",
    "    canvas_size = (12, 5), \n",
    "    resolution = [150], \n",
    "    nn_width = [64], nn_depth = [3], \n",
    "    loss = [tf.keras.losses.mean_squared_error], \n",
    "):\n",
    "    shape = []\n",
    "    titles = []\n",
    "    if len(resolution) > 1:\n",
    "        shape.append(len(resolution))\n",
    "        titles.append(('resolution', resolution))\n",
    "    if len(nn_width) > 1:\n",
    "        shape.append(len(nn_width))\n",
    "        titles.append(('NN width', nn_width))\n",
    "    if len(nn_depth) > 1:\n",
    "        shape.append(len(nn_depth))\n",
    "        titles.append(('NN depth', nn_depth))\n",
    "    if len(loss) > 1:\n",
    "        shape.append(len(loss))\n",
    "        titles.append(('loss', ['L2' if x is tf.keras.losses.mean_squared_error else 'L1' for x in loss]))\n",
    "    if len(shape) != 2:\n",
    "        raise Exception('comparison limited to 2D, sorry')\n",
    "    fig, axes = plt.subplots(*shape)\n",
    "#     try:\n",
    "#         iter(axes)\n",
    "#     except TypeError:\n",
    "#         axes = [axes]\n",
    "    for i, ax in enumerate(axes[0, :]):\n",
    "        ax.set_title(titles[1][0] + ' = ' + str(titles[1][1][i]))\n",
    "    for i, ax in enumerate(axes[:, 0]):\n",
    "        ax.set_ylabel(titles[0][0] + ' = ' + str(titles[0][1][i]))\n",
    "    flat_axes = [x for t in axes for x in t]\n",
    "    for ax in flat_axes:\n",
    "        ax.tick_params(\n",
    "            axis='both', which='both', \n",
    "            bottom=False, top=False, \n",
    "            labelbottom=False, \n",
    "            right=False, left=False, \n",
    "            labelleft=False, \n",
    "        )\n",
    "    iterAxes = iter(flat_axes)\n",
    "    max_w = 0\n",
    "    max_h = 0\n",
    "    for r in resolution:\n",
    "        x, y, w, h, _ = loadData(img_name, r, is_gray)\n",
    "        if w > max_w:\n",
    "            max_w = w\n",
    "            max_h = h\n",
    "        for nw in nn_width:\n",
    "            for nd in nn_depth:\n",
    "                for l in loss:\n",
    "                    model = MyModel(nw, nd, 1 if is_gray else 3)\n",
    "                    model.compile(\n",
    "                        optimizer='adam',\n",
    "                        loss=l,\n",
    "                    )\n",
    "                    setups.append((model, x, y, w, h, next(iterAxes)))\n",
    "    age = np.zeros((len(setups), ))\n",
    "    epoch = np.zeros((len(setups), ), dtype=np.int32)\n",
    "    next_render = 0\n",
    "    render_i = 0\n",
    "    while True:\n",
    "        if next_render < np.sum(age):\n",
    "            start = time()\n",
    "            for model, x, y, w, h, ax in setups:\n",
    "                output = model.predict(getRaster(max_w, max_h))\n",
    "                ax.imshow(\n",
    "                    np.reshape(output, (max_w, max_h, model.n_channels)), \n",
    "                    vmin=0, vmax=1, \n",
    "                )\n",
    "            fig.set_size_inches(*canvas_size)\n",
    "            fig.tight_layout()\n",
    "            display.clear_output(wait=True)\n",
    "            display.display(fig)\n",
    "            next_render += SPF\n",
    "            plt.savefig(f'../frames/{render_i}.jpg')\n",
    "            render_i += 1\n",
    "            print('Render overhead:', format((time() - start) / SPF, '.1%'))\n",
    "            print('Epochs:')\n",
    "            print(np.reshape(epoch, shape))\n",
    "        elected = np.argmin(age)\n",
    "        model, x, y, w, h, ax = setups[elected]\n",
    "        start = time()\n",
    "        model.fit(\n",
    "            x, y, \n",
    "            steps_per_epoch = max_w * max_h, \n",
    "            epochs = 1, \n",
    "            verbose = 0, \n",
    "            batch_size = w * h, \n",
    "        )\n",
    "        age[elected] += time() - start\n",
    "        epoch[elected] += 1\n",
    "    display.clear_output(wait=True)\n",
    "    print(\"ok\")"
   ]
  },
  {
   "cell_type": "code",
   "execution_count": null,
   "metadata": {
    "id": "jvK6NxDjSe7s",
    "scrolled": true
   },
   "outputs": [],
   "source": [
    "setups = []\n",
    "\n",
    "train(\n",
    "    'polyak et al.png', \n",
    "    is_gray = False, \n",
    "    SPF = 40, \n",
    "    canvas_size = (7, 5), \n",
    "    steps_per_epoch = 128, \n",
    "    resolution = [300, 500], \n",
    "    nn_width = [128, 256], \n",
    "    nn_depth = [6], \n",
    "#     nn_depth = [4, 8], \n",
    "#     loss = [tf.keras.losses.mean_squared_error, tf.keras.losses.mean_absolute_error], \n",
    ")"
   ]
  },
  {
   "cell_type": "code",
   "execution_count": null,
   "metadata": {},
   "outputs": [],
   "source": [
    "def inspect(model, resolution = 150):\n",
    "    activations = []\n",
    "    activations.append(getRaster(resolution, resolution))\n",
    "    for reluLayer in model.myLayers:\n",
    "        activations.append(reluLayer(activations[-1]))\n",
    "    activations.append(model.last(activations[-1]))\n",
    "    fig, axes = plt.subplots(model.depth + 2, model.width)\n",
    "    def draw(i, j, field, absolute = False):\n",
    "        axes[i, j].imshow(\n",
    "            np.reshape(field, (resolution, resolution)), \n",
    "            **({\"vmin\": 0, \"vmax\": 1} if absolute else {})\n",
    "        )\n",
    "        axes[i, j].axis('off')\n",
    "    mid_col = model.width // 2\n",
    "    draw(0, mid_col,     activations[0][:, 0])\n",
    "    draw(0, mid_col + 1, activations[0][:, 1])\n",
    "    for i in range(model.depth + 2):\n",
    "        for j in range(model.width):\n",
    "            if i in (0, model.depth + 1):\n",
    "                axes[i, j].axis('off')\n",
    "                continue\n",
    "            draw(i, j, activations[i][:, j])\n",
    "    for c in range(model.n_channels):\n",
    "        draw(\n",
    "            model.depth + 1, mid_col + c, \n",
    "            activations[model.depth + 1][:, c], absolute = True, \n",
    "        )\n",
    "    fig.set_size_inches(model.width * 2, (model.depth + 2) * 2)\n",
    "\n",
    "inspect(model)"
   ]
  }
 ],
 "metadata": {
  "colab": {
   "name": "insideNeuralImplicitField.ipynb",
   "private_outputs": true,
   "provenance": []
  },
  "kernelspec": {
   "display_name": "Python 3",
   "language": "python",
   "name": "python3"
  },
  "language_info": {
   "codemirror_mode": {
    "name": "ipython",
    "version": 3
   },
   "file_extension": ".py",
   "mimetype": "text/x-python",
   "name": "python",
   "nbconvert_exporter": "python",
   "pygments_lexer": "ipython3",
   "version": "3.8.8"
  }
 },
 "nbformat": 4,
 "nbformat_minor": 1
}
