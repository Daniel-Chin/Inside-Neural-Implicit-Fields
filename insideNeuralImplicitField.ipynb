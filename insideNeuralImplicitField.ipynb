{
 "cells": [
  {
   "cell_type": "markdown",
   "metadata": {
    "id": "FlvgRnzgRauX"
   },
   "source": [
    "Parameters: \n",
    "- width, height of NN\n",
    "- image resolution. \n",
    "- grayscale. \n",
    "- drop out. (may increase interpretability of mid layers?)\n",
    "- L1 vs L2 loss."
   ]
  },
  {
   "cell_type": "code",
   "execution_count": null,
   "metadata": {
    "id": "qg1RGkfrGHO_"
   },
   "outputs": [],
   "source": [
    "import os\n",
    "from time import time\n",
    "from functools import lru_cache\n",
    "import matplotlib.pylab as plt\n",
    "import numpy as np\n",
    "from scipy.ndimage import zoom\n",
    "from IPython import display\n",
    "from imageio import imread"
   ]
  },
  {
   "cell_type": "code",
   "execution_count": null,
   "metadata": {
    "id": "5dfYyPOmxtB4"
   },
   "outputs": [],
   "source": [
    "import tensorflow as tf \n",
    "from tensorflow.keras.layers import Dense, InputLayer\n",
    "from tensorflow.keras import Model\n",
    "\n",
    "print(\"TF version:\", tf.__version__)\n",
    "print(\"GPU is\", \"available\" if tf.config.list_physical_devices('GPU') else \"NOT AVAILABLE\")"
   ]
  },
  {
   "cell_type": "code",
   "execution_count": null,
   "metadata": {
    "id": "3h6NjX9OFAOV"
   },
   "outputs": [],
   "source": [
    "try:\n",
    "    from google.colab import drive\n",
    "except ModuleNotFoundError:\n",
    "    ROOT = 'images'\n",
    "else:\n",
    "    drive.mount('/content/drive')\n",
    "    ROOT = '/content/drive/My Drive/Colab Notebooks/images'"
   ]
  },
  {
   "cell_type": "code",
   "execution_count": null,
   "metadata": {
    "id": "-NzRfvSWx5Zs"
   },
   "outputs": [],
   "source": [
    "class MyModel(Model):\n",
    "  def __init__(self, width, depth, n_channels = 3):\n",
    "    super(MyModel, self).__init__()\n",
    "    self.n_channels = n_channels\n",
    "    self.myLayers = []\n",
    "    for i in range(depth):\n",
    "      layer = Dense(\n",
    "        width, activation='relu', name = f'relu_layer_{i}', \n",
    "        kernel_initializer=tf.initializers.RandomNormal(\n",
    "          stddev = (width** -.5), \n",
    "        ), \n",
    "        bias_initializer  =tf.initializers.RandomNormal(stddev=0.01),\n",
    "      )\n",
    "      self.myLayers.append(layer)\n",
    "    self.last = Dense(n_channels, activation='sigmoid', name = f'sigmoid_layer')\n",
    "\n",
    "  def call(self, x):\n",
    "    for layer in self.myLayers:\n",
    "      x = layer(x)\n",
    "    return self.last(x)\n"
   ]
  },
  {
   "cell_type": "code",
   "execution_count": null,
   "metadata": {
    "id": "vaOyyo8rx7NS"
   },
   "outputs": [],
   "source": [
    "@lru_cache()\n",
    "def getRaster(width, height):\n",
    "  buffer = np.zeros((width*height, 2))\n",
    "  x_lin_space = np.linspace(-1, 1, width)\n",
    "  y_lin_space = np.linspace(-1, 1, height)\n",
    "  for x in range(width):\n",
    "    for y in range(height):\n",
    "      buffer[x * height + y, :] = (x_lin_space[x], y_lin_space[y])\n",
    "  return buffer"
   ]
  },
  {
   "cell_type": "code",
   "execution_count": null,
   "metadata": {
    "id": "MSOnkf9xx8Q9"
   },
   "outputs": [],
   "source": [
    "def view(model, width, height, ax = plt, fig = None, view_h = 5):\n",
    "    output = model.predict(getRaster(width, height))\n",
    "    ax.imshow(\n",
    "        np.reshape(output, (width, height, model.n_channels)), \n",
    "        vmin=0, vmax=1, \n",
    "    )\n",
    "#     ax.axis('off')\n",
    "    (fig or plt.gcf()).set_size_inches(view_h / height * width, view_h)"
   ]
  },
  {
   "cell_type": "code",
   "execution_count": null,
   "metadata": {
    "id": "o7woFIMfx9ir"
   },
   "outputs": [],
   "source": [
    "def viewInitField():\n",
    "    model = MyModel(4, 4, 3)\n",
    "    model.build((None, 2))\n",
    "    model.summary()\n",
    "    view(model)\n",
    "# viewInitField()"
   ]
  },
  {
   "cell_type": "code",
   "execution_count": null,
   "metadata": {
    "id": "RLuD-XQ5IAXB"
   },
   "outputs": [],
   "source": [
    "os.chdir(ROOT)\n",
    "img_names = os.listdir()"
   ]
  },
  {
   "cell_type": "code",
   "execution_count": null,
   "metadata": {
    "id": "pWIUfuF1Frd2"
   },
   "outputs": [],
   "source": [
    "def loadData(img_name, resolution = 50, to_gray = False):\n",
    "  img = imread(img_name) / 255\n",
    "  width, height = img.shape[:2]\n",
    "  try:\n",
    "    if img.shape[2] == 4:\n",
    "      img = img[:, :, :3]\n",
    "    elif img.shape[2] == 1:\n",
    "      raise IndexError\n",
    "    else:\n",
    "      assert img.shape[2] == 3\n",
    "  except IndexError:\n",
    "    t = np.zeros((width, height, 3))\n",
    "    t[:, :, 0] = img\n",
    "    t[:, :, 1] = img\n",
    "    t[:, :, 2] = img\n",
    "    img = t\n",
    "  zoom_k = resolution / (width * height) ** .5\n",
    "  tt = zoom(img[:, :, 0], zoom_k, order=1)\n",
    "  width, height = tt.shape\n",
    "  t = np.zeros((width, height, 3))\n",
    "  t[:, :, 0] = tt\n",
    "  t[:, :, 1] = zoom(img[:, :, 1], zoom_k, order=1)\n",
    "  t[:, :, 2] = zoom(img[:, :, 2], zoom_k, order=1)\n",
    "  img = t\n",
    "  if to_gray:\n",
    "    img = np.mean(img, axis=2)\n",
    "    n_channels = 1\n",
    "  else:\n",
    "    n_channels = 3\n",
    "  x = getRaster(width, height)\n",
    "  y = np.zeros((width * height, n_channels))\n",
    "  for i in range(n_channels):\n",
    "    y[:, i] = np.reshape(img[:, :, i], (width * height, ))\n",
    "  return x, y, width, height, img"
   ]
  },
  {
   "cell_type": "code",
   "execution_count": null,
   "metadata": {
    "id": "0K2Xd3dgK_5C"
   },
   "outputs": [],
   "source": [
    "previewIter = iter(img_names)"
   ]
  },
  {
   "cell_type": "code",
   "execution_count": null,
   "metadata": {
    "id": "rlvAYgTvLM6K"
   },
   "outputs": [],
   "source": [
    "# Run this cell multiple times to preview all data. \n",
    "try:\n",
    "  name = next(previewIter)\n",
    "except StopIteration:\n",
    "  print(\"No more.\")\n",
    "else:\n",
    "  x, y, w, h, img = loadData(name, 150)\n",
    "  print(name)\n",
    "  plt.imshow(img)"
   ]
  },
  {
   "cell_type": "code",
   "execution_count": null,
   "metadata": {},
   "outputs": [],
   "source": [
    "# class MyCallback(tf.keras.callbacks.Callback):\n",
    "#     def __init__(self, width, height):\n",
    "#         super().__init__()\n",
    "#         self.width = width\n",
    "#         self.height = height\n",
    "#     def on_epoch_begin(self, epoch, logs=None):\n",
    "#         print(epoch)\n",
    "#         sleep(1)\n",
    "#         view(model, self.width, self.height, 5)\n",
    "#         display.clear_output(wait=True)\n",
    "#         display.display(plt.gcf())\n",
    "# #         sleep(.01)"
   ]
  },
  {
   "cell_type": "code",
   "execution_count": null,
   "metadata": {
    "id": "AXUsTTFaPzWW"
   },
   "outputs": [],
   "source": [
    "def train(\n",
    "    img_name, is_gray = False, SPF = 1.5, steps_per_epoch = 32, \n",
    "    resolution = [150], \n",
    "    nn_width = [64], nn_depth = [3], \n",
    "    loss = [tf.keras.losses.mean_squared_error], \n",
    "):\n",
    "    shape = []\n",
    "    titles = []\n",
    "    if len(resolution) > 1:\n",
    "        shape.append(len(resolution))\n",
    "        titles.append(('resolution', resolution))\n",
    "    if len(nn_width) > 1:\n",
    "        shape.append(len(nn_width))\n",
    "        titles.append(('NN width', nn_width))\n",
    "    if len(nn_depth) > 1:\n",
    "        shape.append(len(nn_depth))\n",
    "        titles.append(('NN depth', nn_depth))\n",
    "    if len(loss) > 1:\n",
    "        shape.append(len(loss))\n",
    "        titles.append(('loss', loss))\n",
    "    if len(shape) != 2:\n",
    "        raise Exception('comparison limited to 2D, sorry')\n",
    "    fig, axes = plt.subplots(*shape)\n",
    "#     try:\n",
    "#         iter(axes)\n",
    "#     except TypeError:\n",
    "#         axes = [axes]\n",
    "    for i, ax in enumerate(axes[0, :]):\n",
    "        ax.set_title(titles[0][0] + ' = ' + str(titles[0][1][i]))\n",
    "    for i, ax in enumerate(axes[:, 0]):\n",
    "        ax.set_ylabel(titles[1][0] + ' = ' + str(titles[1][1][i]))\n",
    "    flat_axes = [x for t in axes for x in t]\n",
    "    for ax in flat_axes:\n",
    "        ax.tick_params(\n",
    "            axis='both', which='both', \n",
    "            bottom=False, top=False, \n",
    "            labelbottom=False, \n",
    "            right=False, left=False, \n",
    "            labelleft=False, \n",
    "        )\n",
    "    iterAxes = iter(flat_axes)\n",
    "    setups = []\n",
    "    for r in resolution:\n",
    "        x, y, w, h, _ = loadData(img_name, r, is_gray)\n",
    "        for nw in nn_width:\n",
    "            for nd in nn_depth:\n",
    "                for l in loss:\n",
    "                    model = MyModel(nw, nd, 1 if is_gray else 3)\n",
    "                    model.compile(\n",
    "                        optimizer='adam',\n",
    "                        loss=l,\n",
    "                    )\n",
    "                    setups.append((model, x, y, w, h, next(iterAxes)))\n",
    "    age = np.zeros((len(setups), ))\n",
    "    next_render = 0\n",
    "    while True:\n",
    "        if next_render < np.sum(age):\n",
    "            start = time()\n",
    "            for model, x, y, w, h, ax in setups:\n",
    "                view(model, w, h, ax, fig, 7)\n",
    "            fig.tight_layout()\n",
    "            display.clear_output(wait=True)\n",
    "            display.display(fig)\n",
    "            next_render += SPF\n",
    "            print('Render overhead:', format((time() - start) / SPF, '.1%'))\n",
    "        elected = np.argmin(age)\n",
    "        model, x, y, w, h, ax = setups[elected]\n",
    "        start = time()\n",
    "        model.fit(\n",
    "            x, y, \n",
    "            steps_per_epoch = steps_per_epoch, \n",
    "            epochs = 1, \n",
    "            verbose = 0, \n",
    "        )\n",
    "        age[elected] += time() - start\n",
    "    display.clear_output(wait=True)\n",
    "    print(\"ok\")\n",
    "\n",
    "train(img_names[2], nn_width = [24, 48], nn_depth = [2, 3])"
   ]
  },
  {
   "cell_type": "code",
   "execution_count": null,
   "metadata": {
    "id": "jvK6NxDjSe7s"
   },
   "outputs": [],
   "source": [
    "view(model, w, h)\n"
   ]
  },
  {
   "cell_type": "markdown",
   "metadata": {
    "id": "rkrvkj6KyM6a"
   },
   "source": [
    "Tutorial"
   ]
  },
  {
   "cell_type": "code",
   "execution_count": null,
   "metadata": {
    "id": "6oDRmnlq2slz"
   },
   "outputs": [],
   "source": [
    "mnist = tf.keras.datasets.mnist\n",
    "\n",
    "(x_train, y_train), (x_test, y_test) = mnist.load_data()\n",
    "x_train, x_test = x_train / 255.0, x_test / 255.0"
   ]
  },
  {
   "cell_type": "code",
   "execution_count": null,
   "metadata": {
    "id": "bPTUrAEt2uY2"
   },
   "outputs": [],
   "source": [
    "model = tf.keras.models.Sequential([\n",
    "  tf.keras.layers.Flatten(input_shape=(28, 28)),\n",
    "  tf.keras.layers.Dense(128, activation='relu'),\n",
    "  tf.keras.layers.Dropout(0.2),\n",
    "  tf.keras.layers.Dense(10)\n",
    "])"
   ]
  },
  {
   "cell_type": "code",
   "execution_count": null,
   "metadata": {
    "id": "D6mxk0vI2yda"
   },
   "outputs": [],
   "source": [
    "loss_fn = tf.keras.losses.SparseCategoricalCrossentropy(from_logits=True)"
   ]
  },
  {
   "cell_type": "code",
   "execution_count": null,
   "metadata": {
    "id": "jBeSv6zn3C6d"
   },
   "outputs": [],
   "source": [
    "model.compile(optimizer='adam',\n",
    "              loss=loss_fn,\n",
    "              metrics=['accuracy'])"
   ]
  },
  {
   "cell_type": "code",
   "execution_count": null,
   "metadata": {
    "id": "3EMibKQA3F-N"
   },
   "outputs": [],
   "source": [
    "model.fit(x_train, y_train, epochs=5)\n"
   ]
  },
  {
   "cell_type": "code",
   "execution_count": null,
   "metadata": {
    "id": "WwSO5Ai93WR8"
   },
   "outputs": [],
   "source": [
    "model.evaluate(x_test,  y_test, verbose=2)"
   ]
  },
  {
   "cell_type": "code",
   "execution_count": null,
   "metadata": {
    "id": "LYKqL3223tUj"
   },
   "outputs": [],
   "source": []
  }
 ],
 "metadata": {
  "colab": {
   "name": "insideNeuralImplicitField.ipynb",
   "private_outputs": true,
   "provenance": []
  },
  "kernelspec": {
   "display_name": "Python 3",
   "language": "python",
   "name": "python3"
  },
  "language_info": {
   "codemirror_mode": {
    "name": "ipython",
    "version": 3
   },
   "file_extension": ".py",
   "mimetype": "text/x-python",
   "name": "python",
   "nbconvert_exporter": "python",
   "pygments_lexer": "ipython3",
   "version": "3.8.8"
  }
 },
 "nbformat": 4,
 "nbformat_minor": 1
}
